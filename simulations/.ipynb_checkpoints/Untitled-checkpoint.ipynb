{
 "cells": [
  {
   "cell_type": "code",
   "execution_count": 24,
   "metadata": {
    "collapsed": true
   },
   "outputs": [],
   "source": [
    "import numpy as np\n",
    "import math"
   ]
  },
  {
   "cell_type": "code",
   "execution_count": 18,
   "metadata": {},
   "outputs": [
    {
     "name": "stdout",
     "output_type": "stream",
     "text": [
      "[ 0.85802177  0.05570542  0.65705628  0.1923114   0.82576704  0.77079269\n",
      "  0.54688952  0.55798799  0.40103714  0.1222334 ]\n",
      "[ 0.85802177  0.          0.          0.          0.          0.          0.\n",
      "  0.          0.          0.        ]\n"
     ]
    }
   ],
   "source": [
    "segments = np.random.rand(10)\n",
    "N = len(segments)\n",
    "new_segments = np.zeros(N)\n",
    "new_segments[0] = segments[0]\n",
    "print(segments)\n",
    "print(new_segments)\n",
    "segments = np.delete(segments, 0)"
   ]
  },
  {
   "cell_type": "code",
   "execution_count": 23,
   "metadata": {},
   "outputs": [
    {
     "data": {
      "text/plain": [
       "0.0"
      ]
     },
     "execution_count": 23,
     "metadata": {},
     "output_type": "execute_result"
    }
   ],
   "source": []
  },
  {
   "cell_type": "code",
   "execution_count": null,
   "metadata": {
    "collapsed": true
   },
   "outputs": [],
   "source": [
    "for i in range(N-1):\n",
    "    focus_item = new_segments[i]\n",
    "    mindist = math.inf\n",
    "\n",
    "    for item in segments:\n",
    "        dist = np.linalg.norm(focus_item - item)\n",
    "        if (dist < mindist):\n",
    "            mindist = dist\n",
    "            new_segments[i]['forward'] = np.asscalar(np.argwhere(segments==item))\n",
    "            new_segments[i+1] = item\n",
    "\n",
    "    segments = np.delete(segments, new_segments[i]['forward'])"
   ]
  },
  {
   "cell_type": "code",
   "execution_count": 25,
   "metadata": {},
   "outputs": [
    {
     "data": {
      "text/plain": [
       "0.85802176573419342"
      ]
     },
     "execution_count": 25,
     "metadata": {},
     "output_type": "execute_result"
    }
   ],
   "source": [
    "new_segments[0]"
   ]
  },
  {
   "cell_type": "code",
   "execution_count": null,
   "metadata": {
    "collapsed": true
   },
   "outputs": [],
   "source": []
  }
 ],
 "metadata": {
  "kernelspec": {
   "display_name": "Python 3",
   "language": "python",
   "name": "python3"
  },
  "language_info": {
   "codemirror_mode": {
    "name": "ipython",
    "version": 3
   },
   "file_extension": ".py",
   "mimetype": "text/x-python",
   "name": "python",
   "nbconvert_exporter": "python",
   "pygments_lexer": "ipython3",
   "version": "3.6.2"
  }
 },
 "nbformat": 4,
 "nbformat_minor": 2
}
